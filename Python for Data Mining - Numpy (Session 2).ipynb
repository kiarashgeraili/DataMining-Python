{
 "cells": [
  {
   "cell_type": "markdown",
   "metadata": {},
   "source": [
    "# Kiarash Geraili, Computer Science student at AmirKabir University of Technology\n",
    "# Second Section: Numpy \n",
    "# Based on a Data Mining Course By Adel Mohammadpour\n",
    "# Teaching Assistant: Vahid Mahzoon¶\n"
   ]
  },
  {
   "cell_type": "code",
   "execution_count": 1,
   "metadata": {},
   "outputs": [],
   "source": [
    "#NumPy is a fundamental package for scientific computing with Python\n",
    "#many other powerful packages in python like scikit-learn use numpy"
   ]
  },
  {
   "cell_type": "code",
   "execution_count": 1,
   "metadata": {},
   "outputs": [
    {
     "data": {
      "text/plain": [
       "'1.18.1'"
      ]
     },
     "execution_count": 1,
     "metadata": {},
     "output_type": "execute_result"
    }
   ],
   "source": [
    "import numpy as np\n",
    "\n",
    "#finding version of your numpy\n",
    "np.__version__"
   ]
  },
  {
   "cell_type": "code",
   "execution_count": 6,
   "metadata": {},
   "outputs": [
    {
     "name": "stdout",
     "output_type": "stream",
     "text": [
      "Requirement already satisfied: update in c:\\users\\admin\\anaconda3\\lib\\site-packages (0.0.1)\n",
      "Requirement already satisfied: numpy in c:\\users\\admin\\anaconda3\\lib\\site-packages (1.18.1)\n",
      "Requirement already satisfied: style==1.1.0 in c:\\users\\admin\\anaconda3\\lib\\site-packages (from update) (1.1.0)\n"
     ]
    }
   ],
   "source": [
    "!pip install update numpy\n",
    "\n",
    "#cheking for any updates for numpy library"
   ]
  },
  {
   "cell_type": "markdown",
   "metadata": {},
   "source": [
    "# Arrays"
   ]
  },
  {
   "cell_type": "code",
   "execution_count": 8,
   "metadata": {},
   "outputs": [
    {
     "data": {
      "text/plain": [
       "array([1, 2, 3, 4])"
      ]
     },
     "execution_count": 8,
     "metadata": {},
     "output_type": "execute_result"
    }
   ],
   "source": [
    "l0 = [1,2,3,4]\n",
    "\n",
    "#Creat a vector\n",
    "np.array(l0)"
   ]
  },
  {
   "cell_type": "code",
   "execution_count": 9,
   "metadata": {},
   "outputs": [
    {
     "data": {
      "text/plain": [
       "array([[ 1,  2,  3,  4],\n",
       "       [ 5,  6,  7,  8],\n",
       "       [ 9, 10, 11, 12]])"
      ]
     },
     "execution_count": 9,
     "metadata": {},
     "output_type": "execute_result"
    }
   ],
   "source": [
    "#create a matrix\n",
    "\n",
    "matrix = [l0 , [5,6,7,8] , [9,10,11,12]]\n",
    "np.array(matrix)"
   ]
  },
  {
   "cell_type": "code",
   "execution_count": 11,
   "metadata": {},
   "outputs": [],
   "source": [
    "#Difference between lists and arrays are the functions that you can perform on them like for example when you want to divide an array by 4, the result will be printed on request but in case of a list, Python will throw an error message.\n",
    "#but you should notice that working with Numpy arrays is much more faster than working with Python Lists"
   ]
  },
  {
   "cell_type": "code",
   "execution_count": 5,
   "metadata": {},
   "outputs": [
    {
     "data": {
      "text/plain": [
       "array([ 1, 13, 17,  9])"
      ]
     },
     "execution_count": 5,
     "metadata": {},
     "output_type": "execute_result"
    }
   ],
   "source": [
    "array = np.array([1,13,17,9], dtype = 'int32')\n",
    "array"
   ]
  },
  {
   "cell_type": "code",
   "execution_count": 6,
   "metadata": {},
   "outputs": [
    {
     "ename": "ValueError",
     "evalue": "invalid literal for int() with base 10: 'Kiarash Ger'",
     "output_type": "error",
     "traceback": [
      "\u001b[1;31m---------------------------------------------------------------------------\u001b[0m",
      "\u001b[1;31mValueError\u001b[0m                                Traceback (most recent call last)",
      "\u001b[1;32m<ipython-input-6-35eb67244bf8>\u001b[0m in \u001b[0;36m<module>\u001b[1;34m\u001b[0m\n\u001b[1;32m----> 1\u001b[1;33m \u001b[0marray1\u001b[0m \u001b[1;33m=\u001b[0m \u001b[0mnp\u001b[0m\u001b[1;33m.\u001b[0m\u001b[0marray\u001b[0m\u001b[1;33m(\u001b[0m\u001b[1;33m[\u001b[0m\u001b[1;36m1\u001b[0m\u001b[1;33m,\u001b[0m\u001b[1;36m13\u001b[0m\u001b[1;33m,\u001b[0m\u001b[1;34m'Kiarash Ger'\u001b[0m\u001b[1;33m,\u001b[0m\u001b[1;36m9\u001b[0m\u001b[1;33m]\u001b[0m\u001b[1;33m,\u001b[0m \u001b[0mdtype\u001b[0m \u001b[1;33m=\u001b[0m \u001b[1;34m'int32'\u001b[0m\u001b[1;33m)\u001b[0m\u001b[1;33m\u001b[0m\u001b[1;33m\u001b[0m\u001b[0m\n\u001b[0m\u001b[0;32m      2\u001b[0m \u001b[1;31m#when you assign a value to dtype like int32, all the elements of the array should get int32 value\u001b[0m\u001b[1;33m\u001b[0m\u001b[1;33m\u001b[0m\u001b[1;33m\u001b[0m\u001b[0m\n",
      "\u001b[1;31mValueError\u001b[0m: invalid literal for int() with base 10: 'Kiarash Ger'"
     ]
    }
   ],
   "source": [
    "array = np.array([1,13,'Kiarash Ger',9], dtype = 'int32')\n",
    "#when you assign a value to dtype like int32, all the elements of the array should get int32 value"
   ]
  },
  {
   "cell_type": "code",
   "execution_count": 8,
   "metadata": {},
   "outputs": [
    {
     "name": "stdout",
     "output_type": "stream",
     "text": [
      "Size of the List is: 112\n",
      "Size of the Array is: 16\n"
     ]
    }
   ],
   "source": [
    "import sys\n",
    "\n",
    "List = [1,2,3,4]\n",
    "Array = np.array([1,2,3,4])\n",
    "\n",
    "SizeList = sys.getsizeof(1)*len(List)\n",
    "SizeArray = Array.itemsize*Array.size\n",
    "#Comparing size of a python built-in List to a numpy array to find out another reason that why numpy array is much more faster\n",
    "\n",
    "print('Size of the List is: ' + str(SizeList)) \n",
    "print('Size of the Array is: ' + str(SizeArray))"
   ]
  },
  {
   "cell_type": "code",
   "execution_count": 19,
   "metadata": {},
   "outputs": [
    {
     "data": {
      "text/plain": [
       "array([[ 0. ,  0. , 31. ,  0. ],\n",
       "       [ 0. ,  2. ,  0. ,  0. ],\n",
       "       [ 0. ,  0. ,  0. ,  0. ],\n",
       "       [ 4. ,  0. ,  0. ,  1.1]])"
      ]
     },
     "execution_count": 19,
     "metadata": {},
     "output_type": "execute_result"
    }
   ],
   "source": [
    "#In numerical analysis and scientific computing, a sparse matrix or sparse array is a matrix in which most of the elements are zero.\n",
    "#By contrast, if most of the elements are nonzero, then the matrix is considered dense.\n",
    "#we can create a sparse matrix using the Scipy library. As we will talk about this library later we gene\n",
    "\n",
    "Sparse = np.array([[0,0,31,0],[0,2,0,0],[0,0,0,0],[4,0,0,1.1]])\n",
    "Sparse"
   ]
  },
  {
   "cell_type": "code",
   "execution_count": 21,
   "metadata": {},
   "outputs": [
    {
     "name": "stdout",
     "output_type": "stream",
     "text": [
      "4\n",
      "(array([0, 1, 3, 3], dtype=int64), array([2, 1, 0, 3], dtype=int64))\n"
     ]
    }
   ],
   "source": [
    "#using np.count_nonzero you can find how many elements of your np.array are not equal to zero\n",
    "#using np.nonzero method you can find indexes of the non zero elements in a np.array\n",
    "CountNonZero = np.count_nonzero(Sparse)\n",
    "Ind_NonZero = np.nonzero(Sparse)\n",
    "\n",
    "print(CountNonZero)\n",
    "\n",
    "print(Ind_NonZero)\n",
    "#first array in Ind_NonZero illustrate indexes of rows, in which have non-zero elements\n",
    "#second array in Ind_NonZero illustrate indexes of elements of the rows in which have non-zero elements"
   ]
  },
  {
   "cell_type": "markdown",
   "metadata": {},
   "source": [
    "# arange(), linspace() "
   ]
  },
  {
   "cell_type": "code",
   "execution_count": 24,
   "metadata": {},
   "outputs": [
    {
     "data": {
      "text/plain": [
       "array([1. , 1.5, 2. , 2.5, 3. , 3.5, 4. , 4.5, 5. , 5.5, 6. , 6.5, 7. ,\n",
       "       7.5, 8. , 8.5, 9. , 9.5])"
      ]
     },
     "execution_count": 24,
     "metadata": {},
     "output_type": "execute_result"
    }
   ],
   "source": [
    "#arange() is an inbuilt NumPy function that returns an array object containing evenly spaced values within the given range.  \n",
    "#arange(start, stop, step) function returns all values within a given interval(start,stop) by a step.\n",
    "#create all the numbers between 1 to 10 with a 0.5 step \n",
    "np.arange(1,10,0.5)"
   ]
  },
  {
   "cell_type": "code",
   "execution_count": 60,
   "metadata": {},
   "outputs": [
    {
     "data": {
      "text/plain": [
       "array([ 0.,  1.,  2.,  3.,  4.,  5.,  6.,  7.,  8.,  9., 10., 11., 12.,\n",
       "       13., 14., 15., 16., 17., 18., 19., 20.])"
      ]
     },
     "execution_count": 60,
     "metadata": {},
     "output_type": "execute_result"
    }
   ],
   "source": [
    "# np.arange(x)  is one of the array creation routines based on numerical ranges. It creates an instance of ndarray with evenly spaced values and returns the reference to it.\n",
    "\n",
    "np.arange(20.8)"
   ]
  },
  {
   "cell_type": "code",
   "execution_count": 32,
   "metadata": {},
   "outputs": [
    {
     "data": {
      "text/plain": [
       "array([ 1.,  4.,  7., 10.])"
      ]
     },
     "execution_count": 32,
     "metadata": {},
     "output_type": "execute_result"
    }
   ],
   "source": [
    "#linspace(start,stop,x) Returns x items in an interval(start, stop) with a same specific distance between each other.\n",
    "\n",
    "np.linspace(1, 10, 4)"
   ]
  },
  {
   "cell_type": "code",
   "execution_count": 33,
   "metadata": {},
   "outputs": [
    {
     "data": {
      "text/plain": [
       "array([0.        , 0.05263158, 0.10526316, 0.15789474, 0.21052632,\n",
       "       0.26315789, 0.31578947, 0.36842105, 0.42105263, 0.47368421,\n",
       "       0.52631579, 0.57894737, 0.63157895, 0.68421053, 0.73684211,\n",
       "       0.78947368, 0.84210526, 0.89473684, 0.94736842, 1.        ])"
      ]
     },
     "execution_count": 33,
     "metadata": {},
     "output_type": "execute_result"
    }
   ],
   "source": [
    "np.linspace(0,1,20)"
   ]
  },
  {
   "cell_type": "markdown",
   "metadata": {},
   "source": [
    "# zeros(), ones(), eye(), random.rand()"
   ]
  },
  {
   "cell_type": "code",
   "execution_count": 25,
   "metadata": {},
   "outputs": [
    {
     "data": {
      "text/plain": [
       "array([0., 0., 0.])"
      ]
     },
     "execution_count": 25,
     "metadata": {},
     "output_type": "execute_result"
    }
   ],
   "source": [
    "#numpy.zeros(shape, dtype = None, order = ‘C’) : Return a new array of given shape and type, with zeros.\n",
    "\n",
    "np.zeros(3)"
   ]
  },
  {
   "cell_type": "code",
   "execution_count": 28,
   "metadata": {},
   "outputs": [
    {
     "data": {
      "text/plain": [
       "array([[0., 0., 0., 0., 0., 0.],\n",
       "       [0., 0., 0., 0., 0., 0.]])"
      ]
     },
     "execution_count": 28,
     "metadata": {},
     "output_type": "execute_result"
    }
   ],
   "source": [
    "np.zeros((2,6))"
   ]
  },
  {
   "cell_type": "code",
   "execution_count": 29,
   "metadata": {},
   "outputs": [
    {
     "data": {
      "text/plain": [
       "array([[1., 1., 1., 1.],\n",
       "       [1., 1., 1., 1.],\n",
       "       [1., 1., 1., 1.]])"
      ]
     },
     "execution_count": 29,
     "metadata": {},
     "output_type": "execute_result"
    }
   ],
   "source": [
    "#ones.zeros(shape, dtype = None, order = ‘C’) : Return a new array of given shape and type, with ones.\n",
    "\n",
    "np.ones((3,4))"
   ]
  },
  {
   "cell_type": "code",
   "execution_count": 34,
   "metadata": {},
   "outputs": [
    {
     "data": {
      "text/plain": [
       "array([[1., 0., 0., 0., 0.],\n",
       "       [0., 1., 0., 0., 0.],\n",
       "       [0., 0., 1., 0., 0.],\n",
       "       [0., 0., 0., 1., 0.],\n",
       "       [0., 0., 0., 0., 1.]])"
      ]
     },
     "execution_count": 34,
     "metadata": {},
     "output_type": "execute_result"
    }
   ],
   "source": [
    "# eye builds an identity matrix or a unit matrix\n",
    "\n",
    "np.eye(5)"
   ]
  },
  {
   "cell_type": "code",
   "execution_count": 38,
   "metadata": {},
   "outputs": [
    {
     "data": {
      "text/plain": [
       "array([0.08373431, 0.82586723, 0.60595356, 0.67963056])"
      ]
     },
     "execution_count": 38,
     "metadata": {},
     "output_type": "execute_result"
    }
   ],
   "source": [
    "# Numpy also has random functions. using np.random.rand() we can create random matrixes and random vectors\n",
    "# notice that as we saw in the last section, as random library, np.random also create matrixes with elements between (0,1)\n",
    "\n",
    "vector = np.random.rand(4)\n",
    "matrix = np.random.rand(3,2)\n",
    "\n",
    "vector"
   ]
  },
  {
   "cell_type": "code",
   "execution_count": 39,
   "metadata": {},
   "outputs": [
    {
     "data": {
      "text/plain": [
       "array([[0.39275142, 0.49397865],\n",
       "       [0.75206079, 0.30257098],\n",
       "       [0.10173377, 0.2172576 ]])"
      ]
     },
     "execution_count": 39,
     "metadata": {},
     "output_type": "execute_result"
    }
   ],
   "source": [
    "matrix"
   ]
  },
  {
   "cell_type": "code",
   "execution_count": 41,
   "metadata": {},
   "outputs": [
    {
     "data": {
      "text/plain": [
       "35"
      ]
     },
     "execution_count": 41,
     "metadata": {},
     "output_type": "execute_result"
    }
   ],
   "source": [
    "# creat a random integer in an interval(x,y)\n",
    "\n",
    "np.random.randint(20,60)"
   ]
  },
  {
   "cell_type": "code",
   "execution_count": 46,
   "metadata": {},
   "outputs": [
    {
     "data": {
      "text/plain": [
       "array([50, 44, 46])"
      ]
     },
     "execution_count": 46,
     "metadata": {},
     "output_type": "execute_result"
    }
   ],
   "source": [
    "# create a vector with random elements belong to an interval like (34,73)\n",
    "\n",
    "np.random.randint(34,73,3)"
   ]
  },
  {
   "cell_type": "code",
   "execution_count": 49,
   "metadata": {},
   "outputs": [
    {
     "data": {
      "text/plain": [
       "array([[17, 18, 18, 17, 21],\n",
       "       [17, 19, 20, 22, 22],\n",
       "       [17, 22, 22, 22, 20],\n",
       "       [19, 19, 22, 17, 20]])"
      ]
     },
     "execution_count": 49,
     "metadata": {},
     "output_type": "execute_result"
    }
   ],
   "source": [
    "# create a matrix with random elements belong to an interval like (17,23)\n",
    "\n",
    "np.random.randint(17,23,(4,5))"
   ]
  },
  {
   "cell_type": "markdown",
   "metadata": {},
   "source": [
    "# Shape and Reshape "
   ]
  },
  {
   "cell_type": "code",
   "execution_count": 64,
   "metadata": {},
   "outputs": [
    {
     "data": {
      "text/plain": [
       "array([ 0,  1,  2,  3,  4,  5,  6,  7,  8,  9, 10, 11, 12, 13, 14, 15, 16,\n",
       "       17, 18, 19, 20, 21, 22, 23, 24, 25, 26, 27, 28, 29, 30, 31, 32, 33,\n",
       "       34, 35, 36, 37, 38, 39, 40, 41, 42, 43, 44, 45, 46, 47, 48, 49])"
      ]
     },
     "execution_count": 64,
     "metadata": {},
     "output_type": "execute_result"
    }
   ],
   "source": [
    "asc_array = np.arange(50)\n",
    "asc_array"
   ]
  },
  {
   "cell_type": "code",
   "execution_count": 65,
   "metadata": {},
   "outputs": [
    {
     "data": {
      "text/plain": [
       "(50,)"
      ]
     },
     "execution_count": 65,
     "metadata": {},
     "output_type": "execute_result"
    }
   ],
   "source": [
    "asc_array.shape\n",
    "#this function shows us the shape of the array"
   ]
  },
  {
   "cell_type": "code",
   "execution_count": 76,
   "metadata": {},
   "outputs": [
    {
     "data": {
      "text/plain": [
       "array([79, 80, 42, 86, 46, 94, 32, 34, 37, 18, 92, 48, 95, 72, 78, 19, 35,\n",
       "       65,  5, 21])"
      ]
     },
     "execution_count": 76,
     "metadata": {},
     "output_type": "execute_result"
    }
   ],
   "source": [
    "#for reshaping an array(or a matrix) to a matrix we can use reshape(x,y) in which x,y are rows and columns for our final matrix\n",
    "#for example, we want to create and reshape a 20*1 array into a 5*4 matrix and reshape a 5*4 matrix to a 10*2 matrix: follow next 3 Input and output codes\n",
    "\n",
    "Array20_1 = np.random.randint(0,100,20)\n",
    "Array20_1"
   ]
  },
  {
   "cell_type": "code",
   "execution_count": 78,
   "metadata": {},
   "outputs": [
    {
     "data": {
      "text/plain": [
       "array([[79, 80, 42, 86],\n",
       "       [46, 94, 32, 34],\n",
       "       [37, 18, 92, 48],\n",
       "       [95, 72, 78, 19],\n",
       "       [35, 65,  5, 21]])"
      ]
     },
     "execution_count": 78,
     "metadata": {},
     "output_type": "execute_result"
    }
   ],
   "source": [
    "Array5_4 = Array20_1.reshape(5,4)\n",
    "Array5_4"
   ]
  },
  {
   "cell_type": "code",
   "execution_count": 79,
   "metadata": {},
   "outputs": [
    {
     "data": {
      "text/plain": [
       "array([[79, 80],\n",
       "       [42, 86],\n",
       "       [46, 94],\n",
       "       [32, 34],\n",
       "       [37, 18],\n",
       "       [92, 48],\n",
       "       [95, 72],\n",
       "       [78, 19],\n",
       "       [35, 65],\n",
       "       [ 5, 21]])"
      ]
     },
     "execution_count": 79,
     "metadata": {},
     "output_type": "execute_result"
    }
   ],
   "source": [
    "Array10_2 = Array5_4.reshape(10,2)\n",
    "Array10_2"
   ]
  },
  {
   "cell_type": "markdown",
   "metadata": {},
   "source": [
    "# Min, Max, Argmin, Argmax"
   ]
  },
  {
   "cell_type": "code",
   "execution_count": 87,
   "metadata": {},
   "outputs": [
    {
     "data": {
      "text/plain": [
       "array([[41, 23, 42, 32],\n",
       "       [91, 78, 37, 96],\n",
       "       [56, 79,  9, 32]])"
      ]
     },
     "execution_count": 87,
     "metadata": {},
     "output_type": "execute_result"
    }
   ],
   "source": [
    "Matrix = np.random.randint(1,100,(3,4))\n",
    "Matrix"
   ]
  },
  {
   "cell_type": "code",
   "execution_count": 88,
   "metadata": {},
   "outputs": [
    {
     "name": "stdout",
     "output_type": "stream",
     "text": [
      "Maximum is: 96 With index of: 7\n",
      "Minimum is: 9 With index of: 10\n"
     ]
    }
   ],
   "source": [
    "# assume that you want to find the maximum and minimum and their indexes in your matrix:\n",
    "\n",
    "print('Maximum is: ' + str(Matrix.max()) + ' With index of: ' + str(Matrix.argmax()))\n",
    "print('Minimum is: ' + str(Matrix.min()) + ' With index of: ' + str(Matrix.argmin()))"
   ]
  },
  {
   "cell_type": "markdown",
   "metadata": {},
   "source": [
    "# Arithmetic"
   ]
  },
  {
   "cell_type": "code",
   "execution_count": 89,
   "metadata": {},
   "outputs": [
    {
     "data": {
      "text/plain": [
       "array([[52, 71, 21, 62],\n",
       "       [30, 46, 63, 35],\n",
       "       [34,  4, 84, 14]])"
      ]
     },
     "execution_count": 89,
     "metadata": {},
     "output_type": "execute_result"
    }
   ],
   "source": [
    "#we can add a vector or a matrix to another one like this:\n",
    "\n",
    "Matrix0 = np.random.randint(0,100,(3,4))\n",
    "Matrix1 = np.random.randint(0,100,(3,4))\n",
    "Matrix0"
   ]
  },
  {
   "cell_type": "code",
   "execution_count": 90,
   "metadata": {},
   "outputs": [
    {
     "data": {
      "text/plain": [
       "array([[38, 61, 90, 25],\n",
       "       [77, 95, 36, 21],\n",
       "       [99, 60, 50, 21]])"
      ]
     },
     "execution_count": 90,
     "metadata": {},
     "output_type": "execute_result"
    }
   ],
   "source": [
    "Matrix1"
   ]
  },
  {
   "cell_type": "code",
   "execution_count": 91,
   "metadata": {},
   "outputs": [
    {
     "data": {
      "text/plain": [
       "array([[ 90, 132, 111,  87],\n",
       "       [107, 141,  99,  56],\n",
       "       [133,  64, 134,  35]])"
      ]
     },
     "execution_count": 91,
     "metadata": {},
     "output_type": "execute_result"
    }
   ],
   "source": [
    "Matrix0 + Matrix1"
   ]
  },
  {
   "cell_type": "code",
   "execution_count": 92,
   "metadata": {},
   "outputs": [
    {
     "data": {
      "text/plain": [
       "array([[53.5, 72.5, 22.5, 63.5],\n",
       "       [31.5, 47.5, 64.5, 36.5],\n",
       "       [35.5,  5.5, 85.5, 15.5]])"
      ]
     },
     "execution_count": 92,
     "metadata": {},
     "output_type": "execute_result"
    }
   ],
   "source": [
    "#we can add (or deivide or multiply or subtract)a constat number to all elements of an array\n",
    "\n",
    "Matrix0 + 1.5"
   ]
  },
  {
   "cell_type": "code",
   "execution_count": 93,
   "metadata": {},
   "outputs": [
    {
     "data": {
      "text/plain": [
       "array([[ 37,  56,   6,  47],\n",
       "       [ 15,  31,  48,  20],\n",
       "       [ 19, -11,  69,  -1]])"
      ]
     },
     "execution_count": 93,
     "metadata": {},
     "output_type": "execute_result"
    }
   ],
   "source": [
    "Matrix0 - 15"
   ]
  },
  {
   "cell_type": "code",
   "execution_count": 97,
   "metadata": {},
   "outputs": [
    {
     "data": {
      "text/plain": [
       "array([[34.66666667, 47.33333333, 14.        , 41.33333333],\n",
       "       [20.        , 30.66666667, 42.        , 23.33333333],\n",
       "       [22.66666667,  2.66666667, 56.        ,  9.33333333]])"
      ]
     },
     "execution_count": 97,
     "metadata": {},
     "output_type": "execute_result"
    }
   ],
   "source": [
    "(Matrix0/3)*2"
   ]
  },
  {
   "cell_type": "code",
   "execution_count": 98,
   "metadata": {},
   "outputs": [
    {
     "data": {
      "text/plain": [
       "array([[ 0.73076923,  0.85915493,  4.28571429,  0.40322581],\n",
       "       [ 2.56666667,  2.06521739,  0.57142857,  0.6       ],\n",
       "       [ 2.91176471, 15.        ,  0.5952381 ,  1.5       ]])"
      ]
     },
     "execution_count": 98,
     "metadata": {},
     "output_type": "execute_result"
    }
   ],
   "source": [
    "Matrix1/Matrix0"
   ]
  },
  {
   "cell_type": "code",
   "execution_count": 99,
   "metadata": {},
   "outputs": [
    {
     "data": {
      "text/plain": [
       "array([[0.01923077, 0.01408451, 0.04761905, 0.01612903],\n",
       "       [0.03333333, 0.02173913, 0.01587302, 0.02857143],\n",
       "       [0.02941176, 0.25      , 0.01190476, 0.07142857]])"
      ]
     },
     "execution_count": 99,
     "metadata": {},
     "output_type": "execute_result"
    }
   ],
   "source": [
    "1/Matrix0"
   ]
  },
  {
   "cell_type": "code",
   "execution_count": 2,
   "metadata": {},
   "outputs": [
    {
     "name": "stderr",
     "output_type": "stream",
     "text": [
      "C:\\Users\\Admin\\Anaconda3\\lib\\site-packages\\ipykernel_launcher.py:4: RuntimeWarning: invalid value encountered in true_divide\n",
      "  after removing the cwd from sys.path.\n"
     ]
    },
    {
     "data": {
      "text/plain": [
       "array([nan,  1.,  1.,  1.,  1.])"
      ]
     },
     "execution_count": 2,
     "metadata": {},
     "output_type": "execute_result"
    }
   ],
   "source": [
    "#if we have a element resulted in a division by a zero in a matrix or vector, pyhton type the result with a notification:\n",
    "\n",
    "vector = np.array([0,2,3,1,5])\n",
    "vector/vector"
   ]
  },
  {
   "cell_type": "code",
   "execution_count": 3,
   "metadata": {},
   "outputs": [
    {
     "data": {
      "text/plain": [
       "array([ 0,  4,  9,  1, 25])"
      ]
     },
     "execution_count": 3,
     "metadata": {},
     "output_type": "execute_result"
    }
   ],
   "source": [
    "# when we multipy a vector to another one, pyhton multipies element to element and results in another vector\n",
    "# so the result of a normal multiplication is not an inner product:\n",
    "\n",
    "vector*vector"
   ]
  },
  {
   "cell_type": "code",
   "execution_count": 4,
   "metadata": {},
   "outputs": [
    {
     "data": {
      "text/plain": [
       "39"
      ]
     },
     "execution_count": 4,
     "metadata": {},
     "output_type": "execute_result"
    }
   ],
   "source": [
    "#we can use operator @ for inner product \n",
    "vector @ vector"
   ]
  },
  {
   "cell_type": "code",
   "execution_count": 15,
   "metadata": {},
   "outputs": [
    {
     "name": "stdout",
     "output_type": "stream",
     "text": [
      "Matrix A is: \n",
      "[[40 86 70 97]\n",
      " [68 74 67 31]\n",
      " [10 32 55 99]]\n",
      "Matrix B is: \n",
      "[[41 24]\n",
      " [43 55]\n",
      " [54 56]\n",
      " [82 30]]\n",
      "\n",
      "A.B is:\n",
      "[[17072 12520]\n",
      " [12130 10384]\n",
      " [12874  8050]]\n"
     ]
    }
   ],
   "source": [
    "A = np.random.randint(0,100,(3,4))\n",
    "B = np.random.randint(0,100,(4,2))\n",
    "\n",
    "print('Matrix A is: ')\n",
    "print(A)\n",
    "print('Matrix B is: ')\n",
    "print(B)\n",
    "print()\n",
    "print('A.B is:')\n",
    "print(A @ B)"
   ]
  },
  {
   "cell_type": "code",
   "execution_count": 7,
   "metadata": {},
   "outputs": [
    {
     "data": {
      "text/plain": [
       "array([0, 2, 3, 1, 5])"
      ]
     },
     "execution_count": 7,
     "metadata": {},
     "output_type": "execute_result"
    }
   ],
   "source": [
    "vector"
   ]
  },
  {
   "cell_type": "code",
   "execution_count": 10,
   "metadata": {},
   "outputs": [
    {
     "data": {
      "text/plain": [
       "array([0.        , 1.41421356, 1.73205081, 1.        , 2.23606798])"
      ]
     },
     "execution_count": 10,
     "metadata": {},
     "output_type": "execute_result"
    }
   ],
   "source": [
    "#np.sqrt() Return the non-negative square-root of an array, element-wise.\n",
    "\n",
    "np.sqrt(vector)"
   ]
  },
  {
   "cell_type": "code",
   "execution_count": 16,
   "metadata": {},
   "outputs": [
    {
     "data": {
      "text/plain": [
       "array([  1.        ,   7.3890561 ,  20.08553692,   2.71828183,\n",
       "       148.4131591 ])"
      ]
     },
     "execution_count": 16,
     "metadata": {},
     "output_type": "execute_result"
    }
   ],
   "source": [
    "#np.exp Calculate the exponential of all elements in the input array.\n",
    "\n",
    "np.exp(vector)"
   ]
  },
  {
   "cell_type": "code",
   "execution_count": 18,
   "metadata": {},
   "outputs": [
    {
     "data": {
      "text/plain": [
       "-0.335470838785271"
      ]
     },
     "execution_count": 18,
     "metadata": {},
     "output_type": "execute_result"
    }
   ],
   "source": [
    "np.sin(vector)@ np.cos(vector)"
   ]
  },
  {
   "cell_type": "code",
   "execution_count": 20,
   "metadata": {},
   "outputs": [
    {
     "name": "stderr",
     "output_type": "stream",
     "text": [
      "C:\\Users\\Admin\\Anaconda3\\lib\\site-packages\\ipykernel_launcher.py:3: RuntimeWarning: divide by zero encountered in log\n",
      "  This is separate from the ipykernel package so we can avoid doing imports until\n"
     ]
    },
    {
     "data": {
      "text/plain": [
       "array([      -inf, 0.69314718, 1.09861229, 0.        , 1.60943791])"
      ]
     },
     "execution_count": 20,
     "metadata": {},
     "output_type": "execute_result"
    }
   ],
   "source": [
    "#the natural logarithm log is the inverse of the exponential function, so that log(exp(x)) = x. The natural logarithm is logarithm in base e.\n",
    "\n",
    "np.log(vector)"
   ]
  },
  {
   "cell_type": "code",
   "execution_count": 21,
   "metadata": {},
   "outputs": [
    {
     "data": {
      "text/plain": [
       "11"
      ]
     },
     "execution_count": 21,
     "metadata": {},
     "output_type": "execute_result"
    }
   ],
   "source": [
    "#returns the summation of all the elements in an array\n",
    "\n",
    "np.sum(vector)"
   ]
  },
  {
   "cell_type": "code",
   "execution_count": 31,
   "metadata": {},
   "outputs": [
    {
     "name": "stdout",
     "output_type": "stream",
     "text": [
      "For matrix:  [[96 49 70 76 43]\n",
      " [86 84  1 35 64]\n",
      " [46 12 89 83 68]\n",
      " [14 64 50 23 27]\n",
      " [30 99 90 79 23]]\n",
      "The Mean of all elements in Matrix is:  56.04\n",
      "The Median of all elements in Matrix is:  64.0\n"
     ]
    }
   ],
   "source": [
    "#finding out statistical parameters easily using numpy\n",
    "\n",
    "Matrix = np.random.randint(0,100,(5,5))\n",
    "\n",
    "print('For matrix: ',Matrix)\n",
    "print('The Mean of all elements in Matrix is: ',np.mean(Matrix))\n",
    "print('The Median of all elements in Matrix is: ',np.median(Matrix))"
   ]
  },
  {
   "cell_type": "code",
   "execution_count": 33,
   "metadata": {},
   "outputs": [
    {
     "data": {
      "text/plain": [
       "array([[ 5, 10,  8, 13, 12,  9],\n",
       "       [ 5,  8,  7,  6, 11, 10],\n",
       "       [11, 18,  9,  4, 16,  0],\n",
       "       [ 7,  3, 15,  6, 17,  7],\n",
       "       [14, 15,  9, 18, 10, 11],\n",
       "       [ 8, 18,  1, 19, 19, 10]])"
      ]
     },
     "execution_count": 33,
     "metadata": {},
     "output_type": "execute_result"
    }
   ],
   "source": [
    "Matrix = np.random.randint(0,20,(6,6))\n",
    "Matrix"
   ]
  },
  {
   "cell_type": "code",
   "execution_count": 37,
   "metadata": {},
   "outputs": [
    {
     "data": {
      "text/plain": [
       "array([ 0,  1,  3,  4,  5,  6,  7,  8,  9, 10, 11, 12, 13, 14, 15, 16, 17,\n",
       "       18, 19])"
      ]
     },
     "execution_count": 37,
     "metadata": {},
     "output_type": "execute_result"
    }
   ],
   "source": [
    "#find the unique elements of an array and returns the sorted unique elements of an array. \n",
    "\n",
    "np.unique(Matrix)"
   ]
  },
  {
   "cell_type": "markdown",
   "metadata": {},
   "source": [
    "# Indexing"
   ]
  },
  {
   "cell_type": "code",
   "execution_count": 39,
   "metadata": {},
   "outputs": [
    {
     "data": {
      "text/plain": [
       "array([0.71814042, 0.25696016, 0.65416495, 0.38244192, 0.42149954,\n",
       "       0.12989872, 0.65709187, 0.57207581, 0.38404566, 0.80750162])"
      ]
     },
     "execution_count": 39,
     "metadata": {},
     "output_type": "execute_result"
    }
   ],
   "source": [
    "#there are some similarities between array indexing and list indexing:\n",
    "\n",
    "arr = np.random.rand(10)\n",
    "arr"
   ]
  },
  {
   "cell_type": "code",
   "execution_count": 42,
   "metadata": {},
   "outputs": [
    {
     "data": {
      "text/plain": [
       "(0.7181404235630507, 0.3824419171873994)"
      ]
     },
     "execution_count": 42,
     "metadata": {},
     "output_type": "execute_result"
    }
   ],
   "source": [
    "arr[0],arr[3]"
   ]
  },
  {
   "cell_type": "code",
   "execution_count": 43,
   "metadata": {},
   "outputs": [
    {
     "data": {
      "text/plain": [
       "array([0.65416495, 0.38244192, 0.42149954, 0.12989872, 0.65709187])"
      ]
     },
     "execution_count": 43,
     "metadata": {},
     "output_type": "execute_result"
    }
   ],
   "source": [
    "arr[2:7]"
   ]
  },
  {
   "cell_type": "code",
   "execution_count": 46,
   "metadata": {},
   "outputs": [
    {
     "data": {
      "text/plain": [
       "array([0.65416495, 0.38244192, 0.42149954, 0.12989872, 0.65709187,\n",
       "       0.57207581, 0.38404566, 0.80750162])"
      ]
     },
     "execution_count": 46,
     "metadata": {},
     "output_type": "execute_result"
    }
   ],
   "source": [
    "arr[2:]"
   ]
  },
  {
   "cell_type": "code",
   "execution_count": 45,
   "metadata": {},
   "outputs": [
    {
     "data": {
      "text/plain": [
       "array([0.71814042, 0.25696016, 0.65416495])"
      ]
     },
     "execution_count": 45,
     "metadata": {},
     "output_type": "execute_result"
    }
   ],
   "source": [
    "arr[:3]"
   ]
  },
  {
   "cell_type": "code",
   "execution_count": 52,
   "metadata": {},
   "outputs": [
    {
     "data": {
      "text/plain": [
       "array([[0, 2, 1, 1],\n",
       "       [1, 0, 2, 2],\n",
       "       [0, 1, 1, 1],\n",
       "       [0, 0, 0, 2]])"
      ]
     },
     "execution_count": 52,
     "metadata": {},
     "output_type": "execute_result"
    }
   ],
   "source": [
    "Matrix = np.random.randint(0,3,(4,4))\n",
    "Matrix"
   ]
  },
  {
   "cell_type": "code",
   "execution_count": 53,
   "metadata": {},
   "outputs": [
    {
     "data": {
      "text/plain": [
       "array([[0, 2, 1, 1],\n",
       "       [1, 0, 2, 2]])"
      ]
     },
     "execution_count": 53,
     "metadata": {},
     "output_type": "execute_result"
    }
   ],
   "source": [
    "Matrix[:2]"
   ]
  },
  {
   "cell_type": "code",
   "execution_count": 55,
   "metadata": {},
   "outputs": [
    {
     "data": {
      "text/plain": [
       "array([[0, 1, 1, 1],\n",
       "       [0, 0, 0, 2]])"
      ]
     },
     "execution_count": 55,
     "metadata": {},
     "output_type": "execute_result"
    }
   ],
   "source": [
    "Matrix[2:]"
   ]
  },
  {
   "cell_type": "code",
   "execution_count": 56,
   "metadata": {},
   "outputs": [
    {
     "data": {
      "text/plain": [
       "2"
      ]
     },
     "execution_count": 56,
     "metadata": {},
     "output_type": "execute_result"
    }
   ],
   "source": [
    "Matrix[1][2]"
   ]
  },
  {
   "cell_type": "code",
   "execution_count": 59,
   "metadata": {},
   "outputs": [
    {
     "data": {
      "text/plain": [
       "2"
      ]
     },
     "execution_count": 59,
     "metadata": {},
     "output_type": "execute_result"
    }
   ],
   "source": [
    "Matrix[1,2]"
   ]
  },
  {
   "cell_type": "code",
   "execution_count": 60,
   "metadata": {},
   "outputs": [
    {
     "data": {
      "text/plain": [
       "array([[0, 2, 1, 1],\n",
       "       [1, 0, 2, 2],\n",
       "       [0, 1, 1, 1],\n",
       "       [0, 0, 0, 2]])"
      ]
     },
     "execution_count": 60,
     "metadata": {},
     "output_type": "execute_result"
    }
   ],
   "source": [
    "Matrix"
   ]
  },
  {
   "cell_type": "code",
   "execution_count": 62,
   "metadata": {},
   "outputs": [
    {
     "data": {
      "text/plain": [
       "array([[999, 999, 999, 999],\n",
       "       [999, 999, 999, 999],\n",
       "       [  0,   1,   1,   1],\n",
       "       [  0,   0,   0,   2]])"
      ]
     },
     "execution_count": 62,
     "metadata": {},
     "output_type": "execute_result"
    }
   ],
   "source": [
    "Matrix[:2] = 999\n",
    "Matrix"
   ]
  },
  {
   "cell_type": "code",
   "execution_count": 70,
   "metadata": {},
   "outputs": [
    {
     "data": {
      "text/plain": [
       "array([[0, 1, 1, 1],\n",
       "       [0, 0, 0, 2]])"
      ]
     },
     "execution_count": 70,
     "metadata": {},
     "output_type": "execute_result"
    }
   ],
   "source": [
    "MatrixSlice = Matrix[2:]\n",
    "MatrixSlice\n",
    "\n",
    "#sepraring a part of an array"
   ]
  },
  {
   "cell_type": "code",
   "execution_count": 71,
   "metadata": {},
   "outputs": [
    {
     "data": {
      "text/plain": [
       "array([[10, 10, 10, 10],\n",
       "       [10, 10, 10, 10]])"
      ]
     },
     "execution_count": 71,
     "metadata": {},
     "output_type": "execute_result"
    }
   ],
   "source": [
    "MatrixSlice[:] = 10\n",
    "MatrixSlice"
   ]
  },
  {
   "cell_type": "code",
   "execution_count": 72,
   "metadata": {},
   "outputs": [
    {
     "data": {
      "text/plain": [
       "array([[999, 999, 999, 999],\n",
       "       [999, 999, 999, 999],\n",
       "       [ 10,  10,  10,  10],\n",
       "       [ 10,  10,  10,  10]])"
      ]
     },
     "execution_count": 72,
     "metadata": {},
     "output_type": "execute_result"
    }
   ],
   "source": [
    "Matrix\n",
    "\n",
    "#as you can see there is a problem because as we changed the slice\n",
    "#the whole matrix changed, which could make us wrong in many cases"
   ]
  },
  {
   "cell_type": "code",
   "execution_count": 77,
   "metadata": {},
   "outputs": [
    {
     "name": "stdout",
     "output_type": "stream",
     "text": [
      "[[4500 4500 4500 4500]\n",
      " [4500 4500 4500 4500]\n",
      " [4500 4500 4500 4500]\n",
      " [4500 4500 4500 4500]]\n",
      "[[999 999 999 999]\n",
      " [999 999 999 999]\n",
      " [ 10  10  10  10]\n",
      " [ 10  10  10  10]]\n"
     ]
    }
   ],
   "source": [
    "#in order to avoid that problem we use copy() method\n",
    "\n",
    "MatrixCopy = Matrix.copy()\n",
    "MatrixCopy[:] = 4500\n",
    "print(MatrixCopy)\n",
    "print(Matrix)"
   ]
  },
  {
   "cell_type": "markdown",
   "metadata": {},
   "source": [
    "# Broadcasting"
   ]
  },
  {
   "cell_type": "code",
   "execution_count": 82,
   "metadata": {},
   "outputs": [
    {
     "name": "stdout",
     "output_type": "stream",
     "text": [
      "vector is:\n",
      "[0.74153936 0.67160432 0.23527974]\n",
      "\n",
      "matrix is:\n",
      "[[2 4 5]\n",
      " [2 3 0]\n",
      " [3 5 1]]\n"
     ]
    }
   ],
   "source": [
    "vector = np.random.rand(3)\n",
    "print('vector is:')\n",
    "print(vector)\n",
    "\n",
    "print()\n",
    "\n",
    "matrix = np.random.randint(0,10,(3,3))\n",
    "print('matrix is:')\n",
    "print(matrix)"
   ]
  },
  {
   "cell_type": "code",
   "execution_count": 83,
   "metadata": {},
   "outputs": [
    {
     "data": {
      "text/plain": [
       "array([[2.74153936, 4.67160432, 5.23527974],\n",
       "       [2.74153936, 3.67160432, 0.23527974],\n",
       "       [3.74153936, 5.67160432, 1.23527974]])"
      ]
     },
     "execution_count": 83,
     "metadata": {},
     "output_type": "execute_result"
    }
   ],
   "source": [
    "matrix + vector\n",
    "#it seems that if we want to add a vector to a matrix but in pyhton if you do such thing, \n",
    "#Pyhon will change the vector to a matrix by producing same rows as the matrix has, and then adds the vector to all rows of the matrix"
   ]
  },
  {
   "cell_type": "code",
   "execution_count": 85,
   "metadata": {},
   "outputs": [
    {
     "data": {
      "text/plain": [
       "array([2.74153936, 2.67160432, 2.23527974])"
      ]
     },
     "execution_count": 85,
     "metadata": {},
     "output_type": "execute_result"
    }
   ],
   "source": [
    "# if you remmeber, when we added a number to a vector the same happened (all the element of the vector increased by the same number that we added)\n",
    "\n",
    "vector + 2\n",
    "# in another word, pyhton changes the single number into a vector and add it to the first vector"
   ]
  },
  {
   "cell_type": "markdown",
   "metadata": {},
   "source": [
    "# Selection"
   ]
  },
  {
   "cell_type": "code",
   "execution_count": 88,
   "metadata": {},
   "outputs": [
    {
     "data": {
      "text/plain": [
       "array([[2, 4, 5],\n",
       "       [2, 3, 0],\n",
       "       [3, 5, 1]])"
      ]
     },
     "execution_count": 88,
     "metadata": {},
     "output_type": "execute_result"
    }
   ],
   "source": [
    "matrix"
   ]
  },
  {
   "cell_type": "code",
   "execution_count": 89,
   "metadata": {},
   "outputs": [
    {
     "data": {
      "text/plain": [
       "array([[False,  True,  True],\n",
       "       [False,  True, False],\n",
       "       [ True,  True, False]])"
      ]
     },
     "execution_count": 89,
     "metadata": {},
     "output_type": "execute_result"
    }
   ],
   "source": [
    "matrix > 2\n",
    "\n",
    "#check the condition for all elements and returns an array of booleans for each element"
   ]
  },
  {
   "cell_type": "code",
   "execution_count": 92,
   "metadata": {},
   "outputs": [
    {
     "data": {
      "text/plain": [
       "array([4, 5, 3, 3, 5])"
      ]
     },
     "execution_count": 92,
     "metadata": {},
     "output_type": "execute_result"
    }
   ],
   "source": [
    "#for finding elements using a condition we should use an array:\n",
    "\n",
    "Conditional_Elements = matrix[matrix > 2]\n",
    "Conditional_Elements"
   ]
  },
  {
   "cell_type": "markdown",
   "metadata": {},
   "source": [
    "# Polynomial"
   ]
  },
  {
   "cell_type": "code",
   "execution_count": 93,
   "metadata": {},
   "outputs": [
    {
     "data": {
      "text/plain": [
       "64"
      ]
     },
     "execution_count": 93,
     "metadata": {},
     "output_type": "execute_result"
    }
   ],
   "source": [
    "#assume that we want to create a polynomial using coefficionts:\n",
    "\n",
    "coeff = np.array([2,1,0,1])\n",
    "#2x^3 + x^2 + 1\n",
    "\n",
    "np.polyval(coeff, 3)\n",
    "#np.polyval(x ,y) create a polynomial using x coefficinets and calculates the polynomial using y value\n",
    "#for example in this section it returnes 2(3)^3 + (3)^2 + 1"
   ]
  },
  {
   "cell_type": "code",
   "execution_count": 95,
   "metadata": {},
   "outputs": [
    {
     "data": {
      "text/plain": [
       "array([6, 2, 0])"
      ]
     },
     "execution_count": 95,
     "metadata": {},
     "output_type": "execute_result"
    }
   ],
   "source": [
    "np.polyder(coeff)\n",
    "\n",
    "# Returns the derivative of the specified order of a polynomial using coefficients"
   ]
  },
  {
   "cell_type": "code",
   "execution_count": 97,
   "metadata": {},
   "outputs": [
    {
     "data": {
      "text/plain": [
       "28"
      ]
     },
     "execution_count": 97,
     "metadata": {},
     "output_type": "execute_result"
    }
   ],
   "source": [
    "np.polyval(np.polyder(coeff) ,2)\n",
    "\n",
    "#result of the derivative polynomial for x = 2"
   ]
  },
  {
   "cell_type": "code",
   "execution_count": 99,
   "metadata": {},
   "outputs": [
    {
     "data": {
      "text/plain": [
       "array([0.5       , 0.33333333, 0.        , 1.        , 0.        ])"
      ]
     },
     "execution_count": 99,
     "metadata": {},
     "output_type": "execute_result"
    }
   ],
   "source": [
    "np.polyint(coeff)\n",
    "\n",
    "#Return an antiderivative (indefinite integral) of a polynomial."
   ]
  },
  {
   "cell_type": "code",
   "execution_count": 102,
   "metadata": {},
   "outputs": [
    {
     "data": {
      "text/plain": [
       "1.8333333333333333"
      ]
     },
     "execution_count": 102,
     "metadata": {},
     "output_type": "execute_result"
    }
   ],
   "source": [
    "np.polyval(np.polyint(coeff) ,1)\n",
    "\n",
    "#result of the integral polynomial for x = 1"
   ]
  },
  {
   "cell_type": "code",
   "execution_count": 104,
   "metadata": {},
   "outputs": [
    {
     "data": {
      "text/plain": [
       "array([ 1., -1.])"
      ]
     },
     "execution_count": 104,
     "metadata": {},
     "output_type": "execute_result"
    }
   ],
   "source": [
    "coeff = np.array([1,0,-1])\n",
    "\n",
    "#Return the roots of a polynomial with coefficients given in\n",
    "np.roots(coeff)"
   ]
  },
  {
   "cell_type": "code",
   "execution_count": 109,
   "metadata": {},
   "outputs": [
    {
     "data": {
      "text/plain": [
       "array([1.])"
      ]
     },
     "execution_count": 109,
     "metadata": {},
     "output_type": "execute_result"
    }
   ],
   "source": [
    "# so if we want to find the maximom or minimum of a polynomial, one way is to find the root of devariation function \n",
    "\n",
    "coeff = np.array([1,-2,1])\n",
    "np.roots(np.polyder(coeff))\n",
    "\n",
    "# for example we trivially know that (x - 1)^2 has a global minimum of 1"
   ]
  },
  {
   "cell_type": "code",
   "execution_count": null,
   "metadata": {},
   "outputs": [],
   "source": []
  }
 ],
 "metadata": {
  "kernelspec": {
   "display_name": "Python 3",
   "language": "python",
   "name": "python3"
  },
  "language_info": {
   "codemirror_mode": {
    "name": "ipython",
    "version": 3
   },
   "file_extension": ".py",
   "mimetype": "text/x-python",
   "name": "python",
   "nbconvert_exporter": "python",
   "pygments_lexer": "ipython3",
   "version": "3.7.3"
  }
 },
 "nbformat": 4,
 "nbformat_minor": 4
}
